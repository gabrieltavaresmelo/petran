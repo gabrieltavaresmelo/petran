{
  "nbformat": 4,
  "nbformat_minor": 0,
  "metadata": {
    "colab": {
      "name": "deformacao-permanente.ipynb",
      "version": "0.3.2",
      "provenance": [],
      "collapsed_sections": []
    },
    "kernelspec": {
      "name": "python3",
      "display_name": "Python 3"
    }
  },
  "cells": [
    {
      "cell_type": "markdown",
      "metadata": {
        "id": "1IPZDNWGGGNg",
        "colab_type": "text"
      },
      "source": [
        "**Instalação de dependências**"
      ]
    },
    {
      "cell_type": "code",
      "metadata": {
        "id": "S2M2uacRnO-5",
        "colab_type": "code",
        "colab": {
          "base_uri": "https://localhost:8080/",
          "height": 241
        },
        "outputId": "735081a2-643f-4a1f-ff0c-769a6254b890"
      },
      "source": [
        "!pip install seaborn==0.9.0\n",
        "import pandas as pd\n",
        "from google.colab import files\n",
        "\n",
        "from sklearn.cluster import KMeans, AgglomerativeClustering\n",
        "from sklearn.manifold import TSNE\n",
        "from sklearn.preprocessing import StandardScaler\n",
        "import seaborn as sns\n",
        "from sklearn.metrics import pairwise_distances_argmin\n",
        "%matplotlib inline\n",
        "import matplotlib.pyplot as plt\n",
        "import seaborn as sns; sns.set()  # for plot styling\n",
        "import numpy as np"
      ],
      "execution_count": 1,
      "outputs": [
        {
          "output_type": "stream",
          "text": [
            "Requirement already satisfied: seaborn==0.9.0 in /usr/local/lib/python3.6/dist-packages (0.9.0)\n",
            "Requirement already satisfied: pandas>=0.15.2 in /usr/local/lib/python3.6/dist-packages (from seaborn==0.9.0) (0.24.2)\n",
            "Requirement already satisfied: matplotlib>=1.4.3 in /usr/local/lib/python3.6/dist-packages (from seaborn==0.9.0) (3.0.3)\n",
            "Requirement already satisfied: numpy>=1.9.3 in /usr/local/lib/python3.6/dist-packages (from seaborn==0.9.0) (1.16.4)\n",
            "Requirement already satisfied: scipy>=0.14.0 in /usr/local/lib/python3.6/dist-packages (from seaborn==0.9.0) (1.3.0)\n",
            "Requirement already satisfied: pytz>=2011k in /usr/local/lib/python3.6/dist-packages (from pandas>=0.15.2->seaborn==0.9.0) (2018.9)\n",
            "Requirement already satisfied: python-dateutil>=2.5.0 in /usr/local/lib/python3.6/dist-packages (from pandas>=0.15.2->seaborn==0.9.0) (2.5.3)\n",
            "Requirement already satisfied: pyparsing!=2.0.4,!=2.1.2,!=2.1.6,>=2.0.1 in /usr/local/lib/python3.6/dist-packages (from matplotlib>=1.4.3->seaborn==0.9.0) (2.4.0)\n",
            "Requirement already satisfied: cycler>=0.10 in /usr/local/lib/python3.6/dist-packages (from matplotlib>=1.4.3->seaborn==0.9.0) (0.10.0)\n",
            "Requirement already satisfied: kiwisolver>=1.0.1 in /usr/local/lib/python3.6/dist-packages (from matplotlib>=1.4.3->seaborn==0.9.0) (1.1.0)\n",
            "Requirement already satisfied: six>=1.5 in /usr/local/lib/python3.6/dist-packages (from python-dateutil>=2.5.0->pandas>=0.15.2->seaborn==0.9.0) (1.12.0)\n",
            "Requirement already satisfied: setuptools in /usr/local/lib/python3.6/dist-packages (from kiwisolver>=1.0.1->matplotlib>=1.4.3->seaborn==0.9.0) (41.0.1)\n"
          ],
          "name": "stdout"
        }
      ]
    },
    {
      "cell_type": "markdown",
      "metadata": {
        "id": "uAPNMCTBGY8V",
        "colab_type": "text"
      },
      "source": [
        "**Upload do CSV (Tabela 4)**"
      ]
    },
    {
      "cell_type": "code",
      "metadata": {
        "id": "7guGhzfprnUh",
        "colab_type": "code",
        "colab": {
          "resources": {
            "http://localhost:8080/nbextensions/google.colab/files.js": {
              "data": "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",
              "ok": true,
              "headers": [
                [
                  "content-type",
                  "application/javascript"
                ]
              ],
              "status": 200,
              "status_text": ""
            }
          },
          "base_uri": "https://localhost:8080/",
          "height": 37
        },
        "outputId": "84b20d09-2073-4bdd-a1f5-39182508a3e1"
      },
      "source": [
        "tabela4Uploaded = files.upload()"
      ],
      "execution_count": 2,
      "outputs": [
        {
          "output_type": "display_data",
          "data": {
            "text/html": [
              "\n",
              "     <input type=\"file\" id=\"files-01f24da3-2cb9-4a7d-8e17-00516bccb3e6\" name=\"files[]\" multiple disabled />\n",
              "     <output id=\"result-01f24da3-2cb9-4a7d-8e17-00516bccb3e6\">\n",
              "      Upload widget is only available when the cell has been executed in the\n",
              "      current browser session. Please rerun this cell to enable.\n",
              "      </output>\n",
              "      <script src=\"/nbextensions/google.colab/files.js\"></script> "
            ],
            "text/plain": [
              "<IPython.core.display.HTML object>"
            ]
          },
          "metadata": {
            "tags": []
          }
        }
      ]
    },
    {
      "cell_type": "markdown",
      "metadata": {
        "id": "IcuaytQVGcHg",
        "colab_type": "text"
      },
      "source": [
        "**Importação dos arquivos CSV na biblioteca do Pandas**"
      ]
    },
    {
      "cell_type": "code",
      "metadata": {
        "id": "CTviDFdQnuHr",
        "colab_type": "code",
        "colab": {}
      },
      "source": [
        "tabela4 = pd.read_csv(\"tabela4.csv\", sep=\";\", header=0, decimal=',', names=[\"Trechos\", \"ATR (mm)\", \"N\", \"FN\", \"Espessura total do revestimento (cm)\", \"Tempo de solicitação (meses)\", \"Região\", \"Temperatura média do ar (grau C)\"])"
      ],
      "execution_count": 0,
      "outputs": []
    },
    {
      "cell_type": "markdown",
      "metadata": {
        "id": "OSshffr5GkT9",
        "colab_type": "text"
      },
      "source": [
        "**Funções auxiliares**"
      ]
    },
    {
      "cell_type": "code",
      "metadata": {
        "id": "7VFHO9_Cv9Jm",
        "colab_type": "code",
        "colab": {}
      },
      "source": [
        "def calculaRazao(atr,n):\n",
        "  return atr/n"
      ],
      "execution_count": 0,
      "outputs": []
    },
    {
      "cell_type": "code",
      "metadata": {
        "id": "wG2Hup0o-ap1",
        "colab_type": "code",
        "colab": {}
      },
      "source": [
        "def obtemCriterio(fn):\n",
        "  if fn>100 and fn<=300:\n",
        "    return 'Médio'\n",
        "  elif fn>300 and fn<=1000:\n",
        "    return 'Pesado'\n",
        "  elif fn>1000:\n",
        "    return 'Extremamente Pesado'\n",
        "  else:\n",
        "    return 'Leve'"
      ],
      "execution_count": 0,
      "outputs": []
    },
    {
      "cell_type": "code",
      "metadata": {
        "id": "a4J8z10uNUhf",
        "colab_type": "code",
        "colab": {}
      },
      "source": [
        "def obtemCriterioAtrN(atrN):\n",
        "  if atrN<3000000:\n",
        "    return 'Leve'\n",
        "  elif atrN>10000000 and atrN<=30000000:\n",
        "    return 'Leve|Médio|Pesado'\n",
        "  elif atrN>30000000:\n",
        "    return 'Leve|Médio|Pesado|Extremamente Pesado'\n",
        "  else:\n",
        "    return 'Leve|Médio'"
      ],
      "execution_count": 0,
      "outputs": []
    },
    {
      "cell_type": "code",
      "metadata": {
        "id": "AUYQsy0PtoND",
        "colab_type": "code",
        "colab": {}
      },
      "source": [
        "tabela4[\"ATR/N\"] = tabela4.apply(lambda x: calculaRazao(x['ATR (mm)'], x['N']), axis=1)\n",
        "#tabela4[\"criterio\"] = tabela4[\"FN\"].apply(obtemCriterio)\n",
        "tabela4[\"criterio_n\"] = tabela4[\"N\"].apply(obtemCriterioAtrN)"
      ],
      "execution_count": 0,
      "outputs": []
    },
    {
      "cell_type": "markdown",
      "metadata": {
        "id": "Cm_3tx3iGs00",
        "colab_type": "text"
      },
      "source": [
        "**Exibição da Tabela**"
      ]
    },
    {
      "cell_type": "code",
      "metadata": {
        "id": "-jJQFj-QtP1X",
        "colab_type": "code",
        "colab": {
          "base_uri": "https://localhost:8080/",
          "height": 642
        },
        "outputId": "8b7c2963-d7bd-4e55-bc1d-0f7a92ccb9d0"
      },
      "source": [
        "tabela4"
      ],
      "execution_count": 8,
      "outputs": [
        {
          "output_type": "execute_result",
          "data": {
            "text/html": [
              "<div>\n",
              "<style scoped>\n",
              "    .dataframe tbody tr th:only-of-type {\n",
              "        vertical-align: middle;\n",
              "    }\n",
              "\n",
              "    .dataframe tbody tr th {\n",
              "        vertical-align: top;\n",
              "    }\n",
              "\n",
              "    .dataframe thead th {\n",
              "        text-align: right;\n",
              "    }\n",
              "</style>\n",
              "<table border=\"1\" class=\"dataframe\">\n",
              "  <thead>\n",
              "    <tr style=\"text-align: right;\">\n",
              "      <th></th>\n",
              "      <th>Trechos</th>\n",
              "      <th>ATR (mm)</th>\n",
              "      <th>N</th>\n",
              "      <th>FN</th>\n",
              "      <th>Espessura total do revestimento (cm)</th>\n",
              "      <th>Tempo de solicitação (meses)</th>\n",
              "      <th>Região</th>\n",
              "      <th>Temperatura média do ar (grau C)</th>\n",
              "      <th>ATR/N</th>\n",
              "      <th>criterio_n</th>\n",
              "    </tr>\n",
              "  </thead>\n",
              "  <tbody>\n",
              "    <tr>\n",
              "      <th>0</th>\n",
              "      <td>T1</td>\n",
              "      <td>4.1</td>\n",
              "      <td>1500000</td>\n",
              "      <td>158</td>\n",
              "      <td>6</td>\n",
              "      <td>31</td>\n",
              "      <td>Sul</td>\n",
              "      <td>19.3</td>\n",
              "      <td>2.733333e-06</td>\n",
              "      <td>Leve</td>\n",
              "    </tr>\n",
              "    <tr>\n",
              "      <th>1</th>\n",
              "      <td>T2</td>\n",
              "      <td>1.5</td>\n",
              "      <td>570000</td>\n",
              "      <td>212</td>\n",
              "      <td>4</td>\n",
              "      <td>47</td>\n",
              "      <td>Sudeste</td>\n",
              "      <td>20.2</td>\n",
              "      <td>2.631579e-06</td>\n",
              "      <td>Leve</td>\n",
              "    </tr>\n",
              "    <tr>\n",
              "      <th>2</th>\n",
              "      <td>T3</td>\n",
              "      <td>2.5</td>\n",
              "      <td>1100000</td>\n",
              "      <td>497</td>\n",
              "      <td>10</td>\n",
              "      <td>37</td>\n",
              "      <td>Sul</td>\n",
              "      <td>19.3</td>\n",
              "      <td>2.272727e-06</td>\n",
              "      <td>Leve</td>\n",
              "    </tr>\n",
              "    <tr>\n",
              "      <th>3</th>\n",
              "      <td>T4</td>\n",
              "      <td>5.4</td>\n",
              "      <td>2400000</td>\n",
              "      <td>29</td>\n",
              "      <td>11</td>\n",
              "      <td>25</td>\n",
              "      <td>Nordeste</td>\n",
              "      <td>25.1</td>\n",
              "      <td>2.250000e-06</td>\n",
              "      <td>Leve</td>\n",
              "    </tr>\n",
              "    <tr>\n",
              "      <th>4</th>\n",
              "      <td>T5</td>\n",
              "      <td>0.7</td>\n",
              "      <td>570000</td>\n",
              "      <td>119</td>\n",
              "      <td>4</td>\n",
              "      <td>47</td>\n",
              "      <td>Sudeste</td>\n",
              "      <td>20.2</td>\n",
              "      <td>1.228070e-06</td>\n",
              "      <td>Leve</td>\n",
              "    </tr>\n",
              "    <tr>\n",
              "      <th>5</th>\n",
              "      <td>T6</td>\n",
              "      <td>0.2</td>\n",
              "      <td>240000</td>\n",
              "      <td>1318</td>\n",
              "      <td>10</td>\n",
              "      <td>22</td>\n",
              "      <td>Sul</td>\n",
              "      <td>21.7</td>\n",
              "      <td>8.333333e-07</td>\n",
              "      <td>Leve</td>\n",
              "    </tr>\n",
              "    <tr>\n",
              "      <th>6</th>\n",
              "      <td>T7</td>\n",
              "      <td>6.4</td>\n",
              "      <td>31000000</td>\n",
              "      <td>1487</td>\n",
              "      <td>8</td>\n",
              "      <td>36</td>\n",
              "      <td>Sul</td>\n",
              "      <td>18.9</td>\n",
              "      <td>2.064516e-07</td>\n",
              "      <td>Leve|Médio|Pesado|Extremamente Pesado</td>\n",
              "    </tr>\n",
              "    <tr>\n",
              "      <th>7</th>\n",
              "      <td>T8</td>\n",
              "      <td>5.6</td>\n",
              "      <td>29000000</td>\n",
              "      <td>354</td>\n",
              "      <td>15</td>\n",
              "      <td>26</td>\n",
              "      <td>Sul</td>\n",
              "      <td>19.1</td>\n",
              "      <td>1.931034e-07</td>\n",
              "      <td>Leve|Médio|Pesado</td>\n",
              "    </tr>\n",
              "    <tr>\n",
              "      <th>8</th>\n",
              "      <td>T9</td>\n",
              "      <td>1.6</td>\n",
              "      <td>11000000</td>\n",
              "      <td>4410</td>\n",
              "      <td>16</td>\n",
              "      <td>6</td>\n",
              "      <td>Sul</td>\n",
              "      <td>17.8</td>\n",
              "      <td>1.454545e-07</td>\n",
              "      <td>Leve|Médio|Pesado</td>\n",
              "    </tr>\n",
              "    <tr>\n",
              "      <th>9</th>\n",
              "      <td>T10</td>\n",
              "      <td>1.6</td>\n",
              "      <td>17000000</td>\n",
              "      <td>1214</td>\n",
              "      <td>12</td>\n",
              "      <td>14</td>\n",
              "      <td>Sudeste</td>\n",
              "      <td>18.5</td>\n",
              "      <td>9.411765e-08</td>\n",
              "      <td>Leve|Médio|Pesado</td>\n",
              "    </tr>\n",
              "    <tr>\n",
              "      <th>10</th>\n",
              "      <td>T11</td>\n",
              "      <td>2.5</td>\n",
              "      <td>29000000</td>\n",
              "      <td>354</td>\n",
              "      <td>18</td>\n",
              "      <td>26</td>\n",
              "      <td>Sul</td>\n",
              "      <td>19.1</td>\n",
              "      <td>8.620690e-08</td>\n",
              "      <td>Leve|Médio|Pesado</td>\n",
              "    </tr>\n",
              "    <tr>\n",
              "      <th>11</th>\n",
              "      <td>T12</td>\n",
              "      <td>0.6</td>\n",
              "      <td>22000000</td>\n",
              "      <td>315</td>\n",
              "      <td>12</td>\n",
              "      <td>16</td>\n",
              "      <td>Sudeste</td>\n",
              "      <td>18.2</td>\n",
              "      <td>2.727273e-08</td>\n",
              "      <td>Leve|Médio|Pesado</td>\n",
              "    </tr>\n",
              "  </tbody>\n",
              "</table>\n",
              "</div>"
            ],
            "text/plain": [
              "   Trechos  ATR (mm)  ...         ATR/N                             criterio_n\n",
              "0       T1       4.1  ...  2.733333e-06                                   Leve\n",
              "1       T2       1.5  ...  2.631579e-06                                   Leve\n",
              "2       T3       2.5  ...  2.272727e-06                                   Leve\n",
              "3       T4       5.4  ...  2.250000e-06                                   Leve\n",
              "4       T5       0.7  ...  1.228070e-06                                   Leve\n",
              "5       T6       0.2  ...  8.333333e-07                                   Leve\n",
              "6       T7       6.4  ...  2.064516e-07  Leve|Médio|Pesado|Extremamente Pesado\n",
              "7       T8       5.6  ...  1.931034e-07                      Leve|Médio|Pesado\n",
              "8       T9       1.6  ...  1.454545e-07                      Leve|Médio|Pesado\n",
              "9      T10       1.6  ...  9.411765e-08                      Leve|Médio|Pesado\n",
              "10     T11       2.5  ...  8.620690e-08                      Leve|Médio|Pesado\n",
              "11     T12       0.6  ...  2.727273e-08                      Leve|Médio|Pesado\n",
              "\n",
              "[12 rows x 10 columns]"
            ]
          },
          "metadata": {
            "tags": []
          },
          "execution_count": 8
        }
      ]
    },
    {
      "cell_type": "markdown",
      "metadata": {
        "id": "hP6tipDFG7P5",
        "colab_type": "text"
      },
      "source": [
        "**Extraindo os dummies**\n",
        "\n",
        "Cria uma nova tabela com os criterios (em colunas) para populá-los com dados binários a fim de identificar os trechos por critério. Este é um processo muito comum em ciência de dados quando se deseja clusterizar ou utilizar uma variável categórica."
      ]
    },
    {
      "cell_type": "code",
      "metadata": {
        "id": "II7c-g6m0YZx",
        "colab_type": "code",
        "colab": {
          "base_uri": "https://localhost:8080/",
          "height": 421
        },
        "outputId": "f6dcb5ef-b166-444e-f4dd-fd19b28f29f9"
      },
      "source": [
        "criterio = tabela4.criterio_n.str.get_dummies()\n",
        "criterio"
      ],
      "execution_count": 9,
      "outputs": [
        {
          "output_type": "execute_result",
          "data": {
            "text/html": [
              "<div>\n",
              "<style scoped>\n",
              "    .dataframe tbody tr th:only-of-type {\n",
              "        vertical-align: middle;\n",
              "    }\n",
              "\n",
              "    .dataframe tbody tr th {\n",
              "        vertical-align: top;\n",
              "    }\n",
              "\n",
              "    .dataframe thead th {\n",
              "        text-align: right;\n",
              "    }\n",
              "</style>\n",
              "<table border=\"1\" class=\"dataframe\">\n",
              "  <thead>\n",
              "    <tr style=\"text-align: right;\">\n",
              "      <th></th>\n",
              "      <th>Extremamente Pesado</th>\n",
              "      <th>Leve</th>\n",
              "      <th>Médio</th>\n",
              "      <th>Pesado</th>\n",
              "    </tr>\n",
              "  </thead>\n",
              "  <tbody>\n",
              "    <tr>\n",
              "      <th>0</th>\n",
              "      <td>0</td>\n",
              "      <td>1</td>\n",
              "      <td>0</td>\n",
              "      <td>0</td>\n",
              "    </tr>\n",
              "    <tr>\n",
              "      <th>1</th>\n",
              "      <td>0</td>\n",
              "      <td>1</td>\n",
              "      <td>0</td>\n",
              "      <td>0</td>\n",
              "    </tr>\n",
              "    <tr>\n",
              "      <th>2</th>\n",
              "      <td>0</td>\n",
              "      <td>1</td>\n",
              "      <td>0</td>\n",
              "      <td>0</td>\n",
              "    </tr>\n",
              "    <tr>\n",
              "      <th>3</th>\n",
              "      <td>0</td>\n",
              "      <td>1</td>\n",
              "      <td>0</td>\n",
              "      <td>0</td>\n",
              "    </tr>\n",
              "    <tr>\n",
              "      <th>4</th>\n",
              "      <td>0</td>\n",
              "      <td>1</td>\n",
              "      <td>0</td>\n",
              "      <td>0</td>\n",
              "    </tr>\n",
              "    <tr>\n",
              "      <th>5</th>\n",
              "      <td>0</td>\n",
              "      <td>1</td>\n",
              "      <td>0</td>\n",
              "      <td>0</td>\n",
              "    </tr>\n",
              "    <tr>\n",
              "      <th>6</th>\n",
              "      <td>1</td>\n",
              "      <td>1</td>\n",
              "      <td>1</td>\n",
              "      <td>1</td>\n",
              "    </tr>\n",
              "    <tr>\n",
              "      <th>7</th>\n",
              "      <td>0</td>\n",
              "      <td>1</td>\n",
              "      <td>1</td>\n",
              "      <td>1</td>\n",
              "    </tr>\n",
              "    <tr>\n",
              "      <th>8</th>\n",
              "      <td>0</td>\n",
              "      <td>1</td>\n",
              "      <td>1</td>\n",
              "      <td>1</td>\n",
              "    </tr>\n",
              "    <tr>\n",
              "      <th>9</th>\n",
              "      <td>0</td>\n",
              "      <td>1</td>\n",
              "      <td>1</td>\n",
              "      <td>1</td>\n",
              "    </tr>\n",
              "    <tr>\n",
              "      <th>10</th>\n",
              "      <td>0</td>\n",
              "      <td>1</td>\n",
              "      <td>1</td>\n",
              "      <td>1</td>\n",
              "    </tr>\n",
              "    <tr>\n",
              "      <th>11</th>\n",
              "      <td>0</td>\n",
              "      <td>1</td>\n",
              "      <td>1</td>\n",
              "      <td>1</td>\n",
              "    </tr>\n",
              "  </tbody>\n",
              "</table>\n",
              "</div>"
            ],
            "text/plain": [
              "    Extremamente Pesado  Leve  Médio  Pesado\n",
              "0                     0     1      0       0\n",
              "1                     0     1      0       0\n",
              "2                     0     1      0       0\n",
              "3                     0     1      0       0\n",
              "4                     0     1      0       0\n",
              "5                     0     1      0       0\n",
              "6                     1     1      1       1\n",
              "7                     0     1      1       1\n",
              "8                     0     1      1       1\n",
              "9                     0     1      1       1\n",
              "10                    0     1      1       1\n",
              "11                    0     1      1       1"
            ]
          },
          "metadata": {
            "tags": []
          },
          "execution_count": 9
        }
      ]
    },
    {
      "cell_type": "markdown",
      "metadata": {
        "id": "86y8Z2A9I5yH",
        "colab_type": "text"
      },
      "source": [
        "**Concatenando a Tabela 4 (CSV) com os dummies**"
      ]
    },
    {
      "cell_type": "code",
      "metadata": {
        "id": "seWC9m7xIKgT",
        "colab_type": "code",
        "colab": {
          "base_uri": "https://localhost:8080/",
          "height": 676
        },
        "outputId": "acc4fca9-bdaa-4d71-f7fe-d120c10dc22d"
      },
      "source": [
        "dados_dos_trechos = pd.concat([tabela4,criterio], axis=1) # axis=1 indica que sera concatenado ao lado (na horizontal)\n",
        "dados_dos_trechos"
      ],
      "execution_count": 10,
      "outputs": [
        {
          "output_type": "execute_result",
          "data": {
            "text/html": [
              "<div>\n",
              "<style scoped>\n",
              "    .dataframe tbody tr th:only-of-type {\n",
              "        vertical-align: middle;\n",
              "    }\n",
              "\n",
              "    .dataframe tbody tr th {\n",
              "        vertical-align: top;\n",
              "    }\n",
              "\n",
              "    .dataframe thead th {\n",
              "        text-align: right;\n",
              "    }\n",
              "</style>\n",
              "<table border=\"1\" class=\"dataframe\">\n",
              "  <thead>\n",
              "    <tr style=\"text-align: right;\">\n",
              "      <th></th>\n",
              "      <th>Trechos</th>\n",
              "      <th>ATR (mm)</th>\n",
              "      <th>N</th>\n",
              "      <th>FN</th>\n",
              "      <th>Espessura total do revestimento (cm)</th>\n",
              "      <th>Tempo de solicitação (meses)</th>\n",
              "      <th>Região</th>\n",
              "      <th>Temperatura média do ar (grau C)</th>\n",
              "      <th>ATR/N</th>\n",
              "      <th>criterio_n</th>\n",
              "      <th>Extremamente Pesado</th>\n",
              "      <th>Leve</th>\n",
              "      <th>Médio</th>\n",
              "      <th>Pesado</th>\n",
              "    </tr>\n",
              "  </thead>\n",
              "  <tbody>\n",
              "    <tr>\n",
              "      <th>0</th>\n",
              "      <td>T1</td>\n",
              "      <td>4.1</td>\n",
              "      <td>1500000</td>\n",
              "      <td>158</td>\n",
              "      <td>6</td>\n",
              "      <td>31</td>\n",
              "      <td>Sul</td>\n",
              "      <td>19.3</td>\n",
              "      <td>2.733333e-06</td>\n",
              "      <td>Leve</td>\n",
              "      <td>0</td>\n",
              "      <td>1</td>\n",
              "      <td>0</td>\n",
              "      <td>0</td>\n",
              "    </tr>\n",
              "    <tr>\n",
              "      <th>1</th>\n",
              "      <td>T2</td>\n",
              "      <td>1.5</td>\n",
              "      <td>570000</td>\n",
              "      <td>212</td>\n",
              "      <td>4</td>\n",
              "      <td>47</td>\n",
              "      <td>Sudeste</td>\n",
              "      <td>20.2</td>\n",
              "      <td>2.631579e-06</td>\n",
              "      <td>Leve</td>\n",
              "      <td>0</td>\n",
              "      <td>1</td>\n",
              "      <td>0</td>\n",
              "      <td>0</td>\n",
              "    </tr>\n",
              "    <tr>\n",
              "      <th>2</th>\n",
              "      <td>T3</td>\n",
              "      <td>2.5</td>\n",
              "      <td>1100000</td>\n",
              "      <td>497</td>\n",
              "      <td>10</td>\n",
              "      <td>37</td>\n",
              "      <td>Sul</td>\n",
              "      <td>19.3</td>\n",
              "      <td>2.272727e-06</td>\n",
              "      <td>Leve</td>\n",
              "      <td>0</td>\n",
              "      <td>1</td>\n",
              "      <td>0</td>\n",
              "      <td>0</td>\n",
              "    </tr>\n",
              "    <tr>\n",
              "      <th>3</th>\n",
              "      <td>T4</td>\n",
              "      <td>5.4</td>\n",
              "      <td>2400000</td>\n",
              "      <td>29</td>\n",
              "      <td>11</td>\n",
              "      <td>25</td>\n",
              "      <td>Nordeste</td>\n",
              "      <td>25.1</td>\n",
              "      <td>2.250000e-06</td>\n",
              "      <td>Leve</td>\n",
              "      <td>0</td>\n",
              "      <td>1</td>\n",
              "      <td>0</td>\n",
              "      <td>0</td>\n",
              "    </tr>\n",
              "    <tr>\n",
              "      <th>4</th>\n",
              "      <td>T5</td>\n",
              "      <td>0.7</td>\n",
              "      <td>570000</td>\n",
              "      <td>119</td>\n",
              "      <td>4</td>\n",
              "      <td>47</td>\n",
              "      <td>Sudeste</td>\n",
              "      <td>20.2</td>\n",
              "      <td>1.228070e-06</td>\n",
              "      <td>Leve</td>\n",
              "      <td>0</td>\n",
              "      <td>1</td>\n",
              "      <td>0</td>\n",
              "      <td>0</td>\n",
              "    </tr>\n",
              "    <tr>\n",
              "      <th>5</th>\n",
              "      <td>T6</td>\n",
              "      <td>0.2</td>\n",
              "      <td>240000</td>\n",
              "      <td>1318</td>\n",
              "      <td>10</td>\n",
              "      <td>22</td>\n",
              "      <td>Sul</td>\n",
              "      <td>21.7</td>\n",
              "      <td>8.333333e-07</td>\n",
              "      <td>Leve</td>\n",
              "      <td>0</td>\n",
              "      <td>1</td>\n",
              "      <td>0</td>\n",
              "      <td>0</td>\n",
              "    </tr>\n",
              "    <tr>\n",
              "      <th>6</th>\n",
              "      <td>T7</td>\n",
              "      <td>6.4</td>\n",
              "      <td>31000000</td>\n",
              "      <td>1487</td>\n",
              "      <td>8</td>\n",
              "      <td>36</td>\n",
              "      <td>Sul</td>\n",
              "      <td>18.9</td>\n",
              "      <td>2.064516e-07</td>\n",
              "      <td>Leve|Médio|Pesado|Extremamente Pesado</td>\n",
              "      <td>1</td>\n",
              "      <td>1</td>\n",
              "      <td>1</td>\n",
              "      <td>1</td>\n",
              "    </tr>\n",
              "    <tr>\n",
              "      <th>7</th>\n",
              "      <td>T8</td>\n",
              "      <td>5.6</td>\n",
              "      <td>29000000</td>\n",
              "      <td>354</td>\n",
              "      <td>15</td>\n",
              "      <td>26</td>\n",
              "      <td>Sul</td>\n",
              "      <td>19.1</td>\n",
              "      <td>1.931034e-07</td>\n",
              "      <td>Leve|Médio|Pesado</td>\n",
              "      <td>0</td>\n",
              "      <td>1</td>\n",
              "      <td>1</td>\n",
              "      <td>1</td>\n",
              "    </tr>\n",
              "    <tr>\n",
              "      <th>8</th>\n",
              "      <td>T9</td>\n",
              "      <td>1.6</td>\n",
              "      <td>11000000</td>\n",
              "      <td>4410</td>\n",
              "      <td>16</td>\n",
              "      <td>6</td>\n",
              "      <td>Sul</td>\n",
              "      <td>17.8</td>\n",
              "      <td>1.454545e-07</td>\n",
              "      <td>Leve|Médio|Pesado</td>\n",
              "      <td>0</td>\n",
              "      <td>1</td>\n",
              "      <td>1</td>\n",
              "      <td>1</td>\n",
              "    </tr>\n",
              "    <tr>\n",
              "      <th>9</th>\n",
              "      <td>T10</td>\n",
              "      <td>1.6</td>\n",
              "      <td>17000000</td>\n",
              "      <td>1214</td>\n",
              "      <td>12</td>\n",
              "      <td>14</td>\n",
              "      <td>Sudeste</td>\n",
              "      <td>18.5</td>\n",
              "      <td>9.411765e-08</td>\n",
              "      <td>Leve|Médio|Pesado</td>\n",
              "      <td>0</td>\n",
              "      <td>1</td>\n",
              "      <td>1</td>\n",
              "      <td>1</td>\n",
              "    </tr>\n",
              "    <tr>\n",
              "      <th>10</th>\n",
              "      <td>T11</td>\n",
              "      <td>2.5</td>\n",
              "      <td>29000000</td>\n",
              "      <td>354</td>\n",
              "      <td>18</td>\n",
              "      <td>26</td>\n",
              "      <td>Sul</td>\n",
              "      <td>19.1</td>\n",
              "      <td>8.620690e-08</td>\n",
              "      <td>Leve|Médio|Pesado</td>\n",
              "      <td>0</td>\n",
              "      <td>1</td>\n",
              "      <td>1</td>\n",
              "      <td>1</td>\n",
              "    </tr>\n",
              "    <tr>\n",
              "      <th>11</th>\n",
              "      <td>T12</td>\n",
              "      <td>0.6</td>\n",
              "      <td>22000000</td>\n",
              "      <td>315</td>\n",
              "      <td>12</td>\n",
              "      <td>16</td>\n",
              "      <td>Sudeste</td>\n",
              "      <td>18.2</td>\n",
              "      <td>2.727273e-08</td>\n",
              "      <td>Leve|Médio|Pesado</td>\n",
              "      <td>0</td>\n",
              "      <td>1</td>\n",
              "      <td>1</td>\n",
              "      <td>1</td>\n",
              "    </tr>\n",
              "  </tbody>\n",
              "</table>\n",
              "</div>"
            ],
            "text/plain": [
              "   Trechos  ATR (mm)         N    FN  ...  Extremamente Pesado  Leve Médio  Pesado\n",
              "0       T1       4.1   1500000   158  ...                    0     1     0       0\n",
              "1       T2       1.5    570000   212  ...                    0     1     0       0\n",
              "2       T3       2.5   1100000   497  ...                    0     1     0       0\n",
              "3       T4       5.4   2400000    29  ...                    0     1     0       0\n",
              "4       T5       0.7    570000   119  ...                    0     1     0       0\n",
              "5       T6       0.2    240000  1318  ...                    0     1     0       0\n",
              "6       T7       6.4  31000000  1487  ...                    1     1     1       1\n",
              "7       T8       5.6  29000000   354  ...                    0     1     1       1\n",
              "8       T9       1.6  11000000  4410  ...                    0     1     1       1\n",
              "9      T10       1.6  17000000  1214  ...                    0     1     1       1\n",
              "10     T11       2.5  29000000   354  ...                    0     1     1       1\n",
              "11     T12       0.6  22000000   315  ...                    0     1     1       1\n",
              "\n",
              "[12 rows x 14 columns]"
            ]
          },
          "metadata": {
            "tags": []
          },
          "execution_count": 10
        }
      ]
    },
    {
      "cell_type": "markdown",
      "metadata": {
        "id": "Pwkorlr5KGtp",
        "colab_type": "text"
      },
      "source": [
        "**Escalando os dados**"
      ]
    },
    {
      "cell_type": "code",
      "metadata": {
        "id": "AoxSI54z0LnL",
        "colab_type": "code",
        "colab": {
          "base_uri": "https://localhost:8080/",
          "height": 34
        },
        "outputId": "03a9f1ff-2163-4973-e628-23c4f3bf9dcd"
      },
      "source": [
        "scaler = StandardScaler()\n",
        "criterios_escalado = scaler.fit_transform(criterio)\n",
        "criterios_escalado.shape"
      ],
      "execution_count": 11,
      "outputs": [
        {
          "output_type": "execute_result",
          "data": {
            "text/plain": [
              "(12, 4)"
            ]
          },
          "metadata": {
            "tags": []
          },
          "execution_count": 11
        }
      ]
    },
    {
      "cell_type": "markdown",
      "metadata": {
        "id": "yj6nmP4hMYXm",
        "colab_type": "text"
      },
      "source": [
        "**Agrupando os dados**\n",
        "\n",
        "Coloca os itens parecidos nos mesmos grupos e itens diferentes em grupos diferentes"
      ]
    },
    {
      "cell_type": "code",
      "metadata": {
        "id": "gvY1H7dPxWCS",
        "colab_type": "code",
        "colab": {
          "base_uri": "https://localhost:8080/",
          "height": 34
        },
        "outputId": "ba3b7648-2edc-4af5-8195-d49283b65d8c"
      },
      "source": [
        "modelo = KMeans(n_clusters=3)\n",
        "modelo.fit(criterios_escalado)\n",
        "\n",
        "print(\"Grupos {}\".format(modelo.labels_))"
      ],
      "execution_count": 12,
      "outputs": [
        {
          "output_type": "stream",
          "text": [
            "Grupos [1 1 1 1 1 1 0 2 2 2 2 2]\n"
          ],
          "name": "stdout"
        }
      ]
    },
    {
      "cell_type": "code",
      "metadata": {
        "id": "HHSUzwxeFKaX",
        "colab_type": "code",
        "colab": {
          "base_uri": "https://localhost:8080/",
          "height": 221
        },
        "outputId": "c70023af-12de-4e3c-a3a5-792fe54e2d82"
      },
      "source": [
        "tsne = TSNE()\n",
        "visualizacao = tsne.fit_transform(criterios_escalado)\n",
        "visualizacao"
      ],
      "execution_count": 13,
      "outputs": [
        {
          "output_type": "execute_result",
          "data": {
            "text/plain": [
              "array([[-369.65384 , -315.08713 ],\n",
              "       [-469.85092 ,   66.678116],\n",
              "       [ 394.1752  , -312.10074 ],\n",
              "       [-371.86783 ,  448.74298 ],\n",
              "       [-141.05576 ,  -85.05218 ],\n",
              "       [ 492.16107 ,   69.94339 ],\n",
              "       [  12.863115, -412.68066 ],\n",
              "       [ 163.36833 ,  221.7139  ],\n",
              "       [-141.75604 ,  220.07713 ],\n",
              "       [ 392.0129  ,  451.6997  ],\n",
              "       [   9.468625,  549.3347  ],\n",
              "       [ 164.06708 ,  -83.41815 ]], dtype=float32)"
            ]
          },
          "metadata": {
            "tags": []
          },
          "execution_count": 13
        }
      ]
    },
    {
      "cell_type": "code",
      "metadata": {
        "id": "LungXpeRAZEX",
        "colab_type": "code",
        "colab": {
          "base_uri": "https://localhost:8080/",
          "height": 780
        },
        "outputId": "2ac88f45-8110-45af-b509-23635ef63664"
      },
      "source": [
        "sns.set(rc={'figure.figsize': (13, 13)})\n",
        "\n",
        "sns.scatterplot(x=visualizacao[:, 0],\n",
        "               y=visualizacao[:, 1],\n",
        "               hue=modelo.labels_,\n",
        "               palette=sns.color_palette('Set1', 3))"
      ],
      "execution_count": 14,
      "outputs": [
        {
          "output_type": "execute_result",
          "data": {
            "text/plain": [
              "<matplotlib.axes._subplots.AxesSubplot at 0x7f1d9fb8bd68>"
            ]
          },
          "metadata": {
            "tags": []
          },
          "execution_count": 14
        },
        {
          "output_type": "display_data",
          "data": {
            "image/png": "[encoded data removed]",
            "text/plain": [
              "<Figure size 936x936 with 1 Axes>"
            ]
          },
          "metadata": {
            "tags": []
          }
        }
      ]
    }
  ]
}